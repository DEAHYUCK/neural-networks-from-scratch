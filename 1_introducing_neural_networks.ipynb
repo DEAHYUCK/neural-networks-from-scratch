{
 "cells": [
  {
   "cell_type": "code",
   "execution_count": null,
   "metadata": {},
   "outputs": [],
   "source": [
    "# There are three inputs to a single neuron.\n",
    "inputs = [1, 2, 3]\n",
    "\n",
    "# Each input needs a weight associated with it. In most case, weights are initialized randomly.\n",
    "weights = [0.2, 0.8, - 0.5]\n",
    "\n",
    "# Each neuron has a bias associated with it. In most case, biases set as zero to start.\n",
    "bias = 2\n",
    "\n",
    "# The values for weights and biases are what get “trained” and they are what make a model actually work (or not work).\n",
    "output = (inputs[0] * weights[0] + inputs[1] * weights[1] + inputs[2] * weights[2] + bias)\n",
    "print(output)"
   ]
  }
 ],
 "metadata": {
  "language_info": {
   "name": "python"
  }
 },
 "nbformat": 4,
 "nbformat_minor": 2
}
